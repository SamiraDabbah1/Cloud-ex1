{
  "nbformat": 4,
  "nbformat_minor": 0,
  "metadata": {
    "colab": {
      "provenance": [],
      "authorship_tag": "ABX9TyPBRGXErH01Hzf8nYBsZhmi",
      "include_colab_link": true
    },
    "kernelspec": {
      "name": "python3",
      "display_name": "Python 3"
    },
    "language_info": {
      "name": "python"
    },
    "widgets": {
      "application/vnd.jupyter.widget-state+json": {
        "e40f96dd48f24af0bb2d3436b7434a94": {
          "model_module": "@jupyter-widgets/controls",
          "model_name": "TextModel",
          "model_module_version": "1.5.0",
          "state": {
            "_dom_classes": [],
            "_model_module": "@jupyter-widgets/controls",
            "_model_module_version": "1.5.0",
            "_model_name": "TextModel",
            "_view_count": null,
            "_view_module": "@jupyter-widgets/controls",
            "_view_module_version": "1.5.0",
            "_view_name": "TextView",
            "continuous_update": true,
            "description": "Favorite Program",
            "description_tooltip": null,
            "disabled": false,
            "layout": "IPY_MODEL_9dd6a8b6384244f2880680b19c1ba691",
            "placeholder": "​",
            "style": "IPY_MODEL_523d10db343f416398898d3bb742d8cd",
            "value": "web"
          }
        },
        "9dd6a8b6384244f2880680b19c1ba691": {
          "model_module": "@jupyter-widgets/base",
          "model_name": "LayoutModel",
          "model_module_version": "1.2.0",
          "state": {
            "_model_module": "@jupyter-widgets/base",
            "_model_module_version": "1.2.0",
            "_model_name": "LayoutModel",
            "_view_count": null,
            "_view_module": "@jupyter-widgets/base",
            "_view_module_version": "1.2.0",
            "_view_name": "LayoutView",
            "align_content": null,
            "align_items": null,
            "align_self": null,
            "border": null,
            "bottom": null,
            "display": null,
            "flex": null,
            "flex_flow": null,
            "grid_area": null,
            "grid_auto_columns": null,
            "grid_auto_flow": null,
            "grid_auto_rows": null,
            "grid_column": null,
            "grid_gap": null,
            "grid_row": null,
            "grid_template_areas": null,
            "grid_template_columns": null,
            "grid_template_rows": null,
            "height": null,
            "justify_content": null,
            "justify_items": null,
            "left": null,
            "margin": null,
            "max_height": null,
            "max_width": null,
            "min_height": null,
            "min_width": null,
            "object_fit": null,
            "object_position": null,
            "order": null,
            "overflow": null,
            "overflow_x": null,
            "overflow_y": null,
            "padding": null,
            "right": null,
            "top": null,
            "visibility": null,
            "width": null
          }
        },
        "523d10db343f416398898d3bb742d8cd": {
          "model_module": "@jupyter-widgets/controls",
          "model_name": "DescriptionStyleModel",
          "model_module_version": "1.5.0",
          "state": {
            "_model_module": "@jupyter-widgets/controls",
            "_model_module_version": "1.5.0",
            "_model_name": "DescriptionStyleModel",
            "_view_count": null,
            "_view_module": "@jupyter-widgets/base",
            "_view_module_version": "1.2.0",
            "_view_name": "StyleView",
            "description_width": ""
          }
        },
        "a268382f07654331b9ba4bef56061258": {
          "model_module": "@jupyter-widgets/controls",
          "model_name": "ButtonModel",
          "model_module_version": "1.5.0",
          "state": {
            "_dom_classes": [],
            "_model_module": "@jupyter-widgets/controls",
            "_model_module_version": "1.5.0",
            "_model_name": "ButtonModel",
            "_view_count": null,
            "_view_module": "@jupyter-widgets/controls",
            "_view_module_version": "1.5.0",
            "_view_name": "ButtonView",
            "button_style": "",
            "description": "Update Program",
            "disabled": false,
            "icon": "",
            "layout": "IPY_MODEL_308a18be93f445d3bdb2f4ade8c80958",
            "style": "IPY_MODEL_d4baea0025734cdf9d5d45525bc167a8",
            "tooltip": ""
          }
        },
        "308a18be93f445d3bdb2f4ade8c80958": {
          "model_module": "@jupyter-widgets/base",
          "model_name": "LayoutModel",
          "model_module_version": "1.2.0",
          "state": {
            "_model_module": "@jupyter-widgets/base",
            "_model_module_version": "1.2.0",
            "_model_name": "LayoutModel",
            "_view_count": null,
            "_view_module": "@jupyter-widgets/base",
            "_view_module_version": "1.2.0",
            "_view_name": "LayoutView",
            "align_content": null,
            "align_items": null,
            "align_self": null,
            "border": null,
            "bottom": null,
            "display": null,
            "flex": null,
            "flex_flow": null,
            "grid_area": null,
            "grid_auto_columns": null,
            "grid_auto_flow": null,
            "grid_auto_rows": null,
            "grid_column": null,
            "grid_gap": null,
            "grid_row": null,
            "grid_template_areas": null,
            "grid_template_columns": null,
            "grid_template_rows": null,
            "height": null,
            "justify_content": null,
            "justify_items": null,
            "left": null,
            "margin": null,
            "max_height": null,
            "max_width": null,
            "min_height": null,
            "min_width": null,
            "object_fit": null,
            "object_position": null,
            "order": null,
            "overflow": null,
            "overflow_x": null,
            "overflow_y": null,
            "padding": null,
            "right": null,
            "top": null,
            "visibility": null,
            "width": null
          }
        },
        "d4baea0025734cdf9d5d45525bc167a8": {
          "model_module": "@jupyter-widgets/controls",
          "model_name": "ButtonStyleModel",
          "model_module_version": "1.5.0",
          "state": {
            "_model_module": "@jupyter-widgets/controls",
            "_model_module_version": "1.5.0",
            "_model_name": "ButtonStyleModel",
            "_view_count": null,
            "_view_module": "@jupyter-widgets/base",
            "_view_module_version": "1.2.0",
            "_view_name": "StyleView",
            "button_color": null,
            "font_weight": ""
          }
        }
      }
    }
  },
  "cells": [
    {
      "cell_type": "markdown",
      "metadata": {
        "id": "view-in-github",
        "colab_type": "text"
      },
      "source": [
        "<a href=\"https://colab.research.google.com/github/SamiraDabbah1/Cloud-ex1/blob/main/exercise_1.ipynb\" target=\"_parent\"><img src=\"https://colab.research.google.com/assets/colab-badge.svg\" alt=\"Open In Colab\"/></a>"
      ]
    },
    {
      "cell_type": "code",
      "source": [
        "!pip install numpy\n"
      ],
      "metadata": {
        "colab": {
          "base_uri": "https://localhost:8080/"
        },
        "id": "eA_8RT630HNj",
        "outputId": "5e0ae3e4-ec89-4317-f17b-d99bb15614d6"
      },
      "execution_count": 5,
      "outputs": [
        {
          "output_type": "stream",
          "name": "stdout",
          "text": [
            "Requirement already satisfied: numpy in /usr/local/lib/python3.10/dist-packages (1.23.5)\n"
          ]
        }
      ]
    },
    {
      "cell_type": "code",
      "source": [
        "from google.colab import drive\n",
        "drive.mount('/content/drive')\n",
        "\n",
        "# @title Students Details\n",
        "student_name = \"Reema Nasr\" # @param [\"Reema Nasr\", \"Samera Dabbah\"]\n",
        "\n",
        "with open('/content/drive/My Drive/students.txt', 'r') as file:\n",
        "     # Read all lines from the file\n",
        "    lines = file.readlines()\n",
        "    # Skip the header row (line 0) and loop through each subsequent line\n",
        "    for line in lines[1:]:\n",
        "        # Split the line based on tabs\n",
        "        data = line.split()\n",
        "        # Check if the first and last names match the selected student_name\n",
        "        if data[0].strip() == student_name.split()[0] and data[1].strip() == student_name.split()[1]:\n",
        "            # Print all details for the selected student\n",
        "            print(\"First Name:\", data[0].strip())\n",
        "            print(\"Last Name:\", data[1].strip())\n",
        "            print(\"Email:\", data[2].strip())\n",
        "            print(\"Courses Name:\", data[3].strip())\n",
        "            print(\"Link:\", data[4].strip())\n",
        "\n",
        "import ipywidgets as widgets\n",
        "from IPython.display import display\n",
        "new_program = widgets.Text(description=\"Favorite Program\", value=\"\") # Add a text box for updating the favorite program\n",
        "update_button = widgets.Button(description=\"Update Program\") # Add a button to trigger the update\n",
        "\n",
        "display(new_program, update_button)\n",
        "\n",
        "def update_program(button):\n",
        "    with open('/content/drive/My Drive/students.txt', 'r') as file:\n",
        "        # Read all lines from the file\n",
        "        lines = file.readlines()\n",
        "\n",
        "    # Loop through each line\n",
        "    for i, line in enumerate(lines[1:]):  # Skip the header row (line 0)\n",
        "        # Split the line based on any whitespace characters\n",
        "        data = line.split()\n",
        "\n",
        "        # Check if the first and last names match the selected student_name\n",
        "        if data[0].strip() == student_name.split()[0] and data[1].strip() == student_name.split()[1]:\n",
        "            # Update the favorite program for the selected student\n",
        "            lines[i + 1] = f\"{data[0]} {data[1]}\\t{data[2]}\\t{data[3]}\\t{data[4]}\\t{new_program.value}\\n\"\n",
        "            break  # Exit the loop after updating the program\n",
        "\n",
        "    # Write the updated data back to the file\n",
        "    with open('/content/drive/My Drive/students.txt', 'w') as file:\n",
        "        file.writelines(lines)\n",
        "\n",
        "    print(f\"Favorite program updated for {student_name} to: {new_program.value}\")\n",
        "\n",
        "# Attach the update_program function to the button's on_click event\n",
        "update_button.on_click(update_program)\n",
        "\n"
      ],
      "metadata": {
        "colab": {
          "base_uri": "https://localhost:8080/",
          "height": 203,
          "referenced_widgets": [
            "e40f96dd48f24af0bb2d3436b7434a94",
            "9dd6a8b6384244f2880680b19c1ba691",
            "523d10db343f416398898d3bb742d8cd",
            "a268382f07654331b9ba4bef56061258",
            "308a18be93f445d3bdb2f4ade8c80958",
            "d4baea0025734cdf9d5d45525bc167a8"
          ]
        },
        "id": "CUkG92xT2l3C",
        "outputId": "fd442756-4669-4120-eeef-0b5e7663f1e3"
      },
      "execution_count": 10,
      "outputs": [
        {
          "output_type": "stream",
          "name": "stdout",
          "text": [
            "Drive already mounted at /content/drive; to attempt to forcibly remount, call drive.mount(\"/content/drive\", force_remount=True).\n",
            "First Name: Reema\n",
            "Last Name: Nasr\n",
            "Email: reema.nasr@e.braude.ac.il\n",
            "Courses Name: computing\n",
            "Link: www.ynet.co.il\n"
          ]
        },
        {
          "output_type": "display_data",
          "data": {
            "text/plain": [
              "Text(value='', description='Favorite Program')"
            ],
            "application/vnd.jupyter.widget-view+json": {
              "version_major": 2,
              "version_minor": 0,
              "model_id": "e40f96dd48f24af0bb2d3436b7434a94"
            }
          },
          "metadata": {}
        },
        {
          "output_type": "display_data",
          "data": {
            "text/plain": [
              "Button(description='Update Program', style=ButtonStyle())"
            ],
            "application/vnd.jupyter.widget-view+json": {
              "version_major": 2,
              "version_minor": 0,
              "model_id": "a268382f07654331b9ba4bef56061258"
            }
          },
          "metadata": {}
        },
        {
          "output_type": "stream",
          "name": "stdout",
          "text": [
            "Favorite program updated for Reema Nasr to: web\n"
          ]
        }
      ]
    }
  ]
}